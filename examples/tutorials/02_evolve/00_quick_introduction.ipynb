{
 "cells": [
  {
   "cell_type": "markdown",
   "metadata": {},
   "source": [
    "# Quick Introduction\n",
    "\n",
    "The set of notebooks in this folder introduce you to the basic functionalities of `expsolve` for solving PDEs using Fourier spatial discretization. We will import\n",
    "\n",
    "* `expsolve` as `es`\n",
    "\n",
    "* `expsolve.discretize.tensorgrid` as `ex` (Fourier and finite difference spatial discretizations on equispaced tensorized grids)\n",
    "\n",
    "The convention across all notebooks is to use `ex` for the spatial discretization (unless more than one spatial discretization is being considered). Doing so allows us to quickly change spatial discretisation. The examples considered in this folder are\n",
    "\n",
    "* The linear time-dependent Schrödinger equation (TDSE) in 1D, 2D and 3D.\n",
    "\n",
    "The notebooks in this folder are:\n",
    "\n",
    "* [00_quick_introduction.ipynb](00_quick_introduction.ipynb). This notebook.\n",
    "* [01_grid.ipynb](01_grid.ipynb). 1D, 2D, 3D grids (`grid1d`, `grid`), discretizing and visualizing a function (`plot`, `imshow`).\n",
    "* [02_differentiation.ipynb](02_differentiation.ipynb). Fourier and finite difference differentiation matrices and operators (`diffop`, `diffmatrix`, `matmul`).\n",
    "* [03_observables.ipynb](03_observables.ipynb). $L^2$ norm and inner product (`l2norm`, `l2inner`, `normalize`), other observables - energy, momentum, position (`observable`, `matmul`).\n",
    "* [04_brute_force_solution_of_schrodinger.ipynb](04_brute_force_solution_of_schrodinger.ipynb). Solving TDSE by exponentiating Hamiltonian 1D and 2D (`diag`, `matrix_exp`, `matmul`).\n",
    "* [05_split_step_method_for_schrodinger.ipynb](05_split_step_method_for_schrodinger.ipynb). Solving TDSE using splittings and Fourier in 1D, 2D and 3D (`diffopexp`, `laplaciansymbol`, `laplacianopexp`).\n",
    "\n",
    "\n",
    "*&#169; Copyright 2019-2023 Pranav Singh*\n",
    "\n",
    "Use of this source code is governed by the MIT license that can be found in the LICENSE file."
   ]
  }
 ],
 "metadata": {
  "kernelspec": {
   "display_name": "Python 3.8.3 ('torch')",
   "language": "python",
   "name": "python3"
  },
  "language_info": {
   "codemirror_mode": {
    "name": "ipython",
    "version": 3
   },
   "file_extension": ".py",
   "mimetype": "text/x-python",
   "name": "python",
   "nbconvert_exporter": "python",
   "pygments_lexer": "ipython3",
   "version": "3.10.9"
  },
  "orig_nbformat": 4,
  "vscode": {
   "interpreter": {
    "hash": "f3b09f0dae079356b11e2992c8ce1698bd60fda55aea4c87f004ec164747e9c6"
   }
  }
 },
 "nbformat": 4,
 "nbformat_minor": 2
}
